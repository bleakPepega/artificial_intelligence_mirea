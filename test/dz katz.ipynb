{
 "cells": [
  {
   "cell_type": "markdown",
   "metadata": {},
   "source": [
    "# 1.2 primer"
   ]
  },
  {
   "cell_type": "code",
   "execution_count": 2,
   "metadata": {},
   "outputs": [
    {
     "name": "stdout",
     "output_type": "stream",
     "text": [
      "39.4 | <class 'float'> \n",
      " None | <class 'NoneType'> \n",
      " ('a', 5, 12.345, (2, 'b')) | <class 'tuple'> \n",
      " [['Антонова Антонина', 34, 'ж'], ['Борисов Борис', 26, 'м']] | <class 'list'> \n",
      " {1, 2, 'tittle', 'content'} | <class 'set'>\n"
     ]
    }
   ],
   "source": [
    "x = 3+5.2* 7\n",
    "y = None\n",
    "z = 'a', 5, 12.345, (2, 'b')\n",
    "df = [['Антонова Антонина', 34, 'ж'],['Борисов Борис', 26, 'м']]\n",
    "A = {1, 'tittle', 2, 'content'}\n",
    "print (x, '|', type(x),'\\n', y, '|', type(y), '\\n', z, '|',type(z), '\\n', df, '|', type(df), '\\n', A, '|', type(A))"
   ]
  },
  {
   "cell_type": "code",
   "execution_count": null,
   "metadata": {},
   "outputs": [],
   "source": []
  },
  {
   "cell_type": "markdown",
   "metadata": {},
   "source": [
    "# 1.3 zadanie"
   ]
  },
  {
   "cell_type": "code",
   "execution_count": 4,
   "metadata": {},
   "outputs": [
    {
     "name": "stdout",
     "output_type": "stream",
     "text": [
      "True | <class 'bool'> \n",
      " {8, 1, 3, 7} | <class 'set'> \n",
      " {2, 4, 5, 10, 'apple'} | <class 'set'> \n",
      " set() | <class 'set'> \n",
      " ('Антоновна Антонина', 34, 'ж') | <class 'tuple'> \n",
      " type | <class 'str'> \n",
      " [1, 'tittle', 2, 'content'] | <class 'list'> \n",
      "\n"
     ]
    }
   ],
   "source": [
    "x = 5 >= 2\n",
    "A = {1, 3, 7, 8}\n",
    "B = {2, 4, 5, 10, 'apple'}\n",
    "C = A & B\n",
    "df = 'Антоновна Антонина', 34, 'ж'\n",
    "z = 'type'\n",
    "D = [1, 'tittle', 2, 'content']\n",
    "print (x, '|', type(x), '\\n', A, '|', type(A), '\\n', B,'|', type(B), '\\n', C, '|', type(C), '\\n', df, '|', type(df), '\\n', z, '|', type(z), '\\n', D, '|', type(D),'\\n')"
   ]
  },
  {
   "cell_type": "markdown",
   "metadata": {},
   "source": [
    "# 2.3 zadanie"
   ]
  },
  {
   "cell_type": "code",
   "execution_count": 5,
   "metadata": {},
   "outputs": [
    {
     "name": "stdout",
     "output_type": "stream",
     "text": [
      "[-5, 5]\n"
     ]
    }
   ],
   "source": [
    "x = 0\n",
    "if x < -5:\n",
    "    print ('(-infinity, -5)')\n",
    "elif -5 <= x <= 5:\n",
    "    print ('[-5, 5]')\n",
    "else:\n",
    "    print ('(5, +infinity)')"
   ]
  },
  {
   "cell_type": "markdown",
   "metadata": {},
   "source": [
    "# 3.3.1"
   ]
  },
  {
   "cell_type": "code",
   "execution_count": 9,
   "metadata": {},
   "outputs": [
    {
     "name": "stdout",
     "output_type": "stream",
     "text": [
      "10\n",
      "7\n",
      "4\n",
      "1\n"
     ]
    }
   ],
   "source": [
    "x = 10 \n",
    "while x >= 1:\n",
    "    print (x)\n",
    "    x -= 3"
   ]
  },
  {
   "cell_type": "markdown",
   "metadata": {},
   "source": [
    "# 3.3.2 zadanie"
   ]
  },
  {
   "cell_type": "code",
   "execution_count": 11,
   "metadata": {},
   "outputs": [
    {
     "name": "stdout",
     "output_type": "stream",
     "text": [
      "dobrota\n",
      "mudrost\n",
      "razum\n"
     ]
    }
   ],
   "source": [
    "human = ['dobrota', 'mudrost', 'razum']\n",
    "for human in human:\n",
    "    print(human)"
   ]
  },
  {
   "cell_type": "markdown",
   "metadata": {},
   "source": [
    "# 3.3.3 zadanie\n"
   ]
  },
  {
   "cell_type": "code",
   "execution_count": 13,
   "metadata": {},
   "outputs": [
    {
     "name": "stdout",
     "output_type": "stream",
     "text": [
      "[2, 3, 4, 5, 6, 7, 8, 9, 10, 11, 12, 13, 14, 15]\n"
     ]
    }
   ],
   "source": [
    "list_int = range(2, 16, 1)\n",
    "print (list(list_int))"
   ]
  },
  {
   "cell_type": "markdown",
   "metadata": {},
   "source": [
    "# 3.3.4 zadanie"
   ]
  },
  {
   "cell_type": "code",
   "execution_count": 16,
   "metadata": {},
   "outputs": [
    {
     "name": "stdout",
     "output_type": "stream",
     "text": [
      "105\n",
      "80\n",
      "55\n",
      "30\n",
      "5\n"
     ]
    }
   ],
   "source": [
    "for i in range(105, 4, -25):\n",
    "    print(i)"
   ]
  },
  {
   "cell_type": "markdown",
   "metadata": {},
   "source": [
    "# 3.3.5 zadanie"
   ]
  },
  {
   "cell_type": "code",
   "execution_count": 34,
   "metadata": {},
   "outputs": [
    {
     "name": "stdout",
     "output_type": "stream",
     "text": [
      "[8, 1, 6, 3, 4, 5, 2, 7, 0, 9]\n"
     ]
    }
   ],
   "source": [
    "x = [0, 1, 2, 3, 4, 5, 6, 7, 8, 9]\n",
    "d = x[::2]\n",
    "e= d[::-1]\n",
    "x[::2]=e\n",
    "print(x)"
   ]
  },
  {
   "cell_type": "code",
   "execution_count": 11,
   "metadata": {},
   "outputs": [
    {
     "name": "stdout",
     "output_type": "stream",
     "text": [
      "медиана - 0.4666666666666667 среднее знавчение 0.4666666666666667\n"
     ]
    },
    {
     "data": {
      "text/plain": "<Figure size 640x480 with 1 Axes>",
      "image/png": "[encoded data removed]"
     },
     "metadata": {},
     "output_type": "display_data"
    }
   ],
   "source": [
    "import math as m\n",
    "import numpy as np\n",
    "import statistics\n",
    "import matplotlib.pyplot as plt\n",
    "data = [0, 0.2, 0.8, 0.5, 0.7, 1]\n",
    "d = [1,2, 3, 4, 5, 6]\n",
    "mediana = statistics.median(data)\n",
    "midle = statistics.mean(data)\n",
    "print(\"медиана -\", midle, \"среднее знавчение\", midle)\n",
    "plt.scatter(data, d)\n",
    "plt.xlabel('X axis')\n",
    "plt.ylabel('Y axis')\n",
    "\n",
    "ax = plt.gca()\n",
    "ax.spines['right'].set_color('none')\n",
    "ax.spines['top'].set_color('none')\n",
    "\n",
    "ax.xaxis.set_ticks_position('bottom')\n",
    "ax.yaxis.set_ticks_position('left')\n",
    "ax.spines['bottom'].set_position(('data', 0))\n",
    "ax.spines['left'].set_position(('data', 0))\n",
    "\n",
    "plt.show()\n"
   ]
  },
  {
   "cell_type": "code",
   "execution_count": 2,
   "outputs": [
    {
     "data": {
      "text/plain": "<Figure size 640x480 with 1 Axes>",
      "image/png": "[encoded data removed]"
     },
     "metadata": {},
     "output_type": "display_data"
    },
    {
     "data": {
      "text/plain": "<matplotlib.collections.PathCollection at 0x7fb93a4bc460>"
     },
     "execution_count": 2,
     "metadata": {},
     "output_type": "execute_result"
    },
    {
     "data": {
      "text/plain": "<Figure size 640x480 with 1 Axes>",
      "image/png": "[encoded data removed]"
     },
     "metadata": {},
     "output_type": "display_data"
    }
   ],
   "source": [
    "from numpy import log as ln\n",
    "import math\n",
    "import numpy as np\n",
    "import matplotlib.pyplot as plt\n",
    "import statistics as stat\n",
    "arr = []\n",
    "mas = []\n",
    "arr2 = [1, 2, 3, 4, 5]\n",
    "for i in range (1, 10):\n",
    "    arr.append(i)\n",
    "for i in range (0, 9):\n",
    "    c = ((math.sqrt(1 + np.exp(math.sqrt(arr[i])) + np.cos(arr[i]**3))) / np.abs(1 - np.sin(arr[i]**3)) + ln(np.abs(2*arr[i])))\n",
    "    mas.append(c)\n",
    "mas2 = mas[0:5]\n",
    "plt.show()\n",
    "plt.grid()\n",
    "plt.plot(mas, mas)\n",
    "plt.show()\n",
    "plt.grid()\n",
    "plt.scatter(arr2, mas2)"
   ],
   "metadata": {
    "collapsed": false
   }
  },
  {
   "cell_type": "code",
   "execution_count": 2,
   "outputs": [
    {
     "name": "stdout",
     "output_type": "stream",
     "text": [
      "[0.04637172797419682, 0.6305388091800452, 0.9446539151693057, 0.807229048475556, 0.6522092700941676, 0.4082188395493953, 0.9445147312188303, 0.9272794098840906, 0.8454408268259205]\n"
     ]
    }
   ],
   "source": [
    "from numpy import log as ln\n",
    "import numpy as np\n",
    "import math\n",
    "mas = []\n",
    "arr = []\n",
    "for i in range(1, 10):\n",
    "    mas.append(i)\n",
    "for i in range(0, 9):\n",
    "    l = np.abs(np.cos(mas[i]*(math.e**(np.cos(mas[i]) + ln(mas[i]) + 1))))\n",
    "    arr.append(l)\n",
    "print(arr)"
   ],
   "metadata": {
    "collapsed": false
   }
  }
 ],
 "metadata": {
  "kernelspec": {
   "display_name": "Python 3",
   "language": "python",
   "name": "python3"
  },
  "language_info": {
   "codemirror_mode": {
    "name": "ipython",
    "version": 3
   },
   "file_extension": ".py",
   "mimetype": "text/x-python",
   "name": "python",
   "nbconvert_exporter": "python",
   "pygments_lexer": "ipython3",
   "version": "3.7.4"
  }
 },
 "nbformat": 4,
 "nbformat_minor": 2
}
