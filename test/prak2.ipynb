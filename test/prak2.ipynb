{
 "cells": [
  {
   "cell_type": "code",
   "execution_count": null,
   "metadata": {
    "collapsed": true
   },
   "outputs": [],
   "source": []
  },
  {
   "cell_type": "code",
   "execution_count": 1,
   "outputs": [
    {
     "name": "stdout",
     "output_type": "stream",
     "text": [
      "[[0 1 0 1 0 1 0 1]\n",
      " [1 0 1 0 1 0 1 0]\n",
      " [0 1 0 1 0 1 0 1]\n",
      " [1 0 1 0 1 0 1 0]\n",
      " [0 1 0 1 0 1 0 1]\n",
      " [1 0 1 0 1 0 1 0]\n",
      " [0 1 0 1 0 1 0 1]\n",
      " [1 0 1 0 1 0 1 0]]\n"
     ]
    }
   ],
   "source": [
    "import numpy as np\n",
    "A = np.arange(64).reshape(8,8)\n",
    "for i in range(0, 8):\n",
    "    for j in range(0, 8):\n",
    "        if i % 2 == 0 and j % 2 == 0 or i % 2 == 1 and j % 2 == 1:\n",
    "            A[i][j] = 0\n",
    "        else:\n",
    "            A[i][j] = 1\n",
    "print(A)"
   ],
   "metadata": {
    "collapsed": false
   }
  },
  {
   "cell_type": "code",
   "execution_count": 2,
   "outputs": [
    {
     "name": "stdout",
     "output_type": "stream",
     "text": [
      "[[0 1 2 3 4]\n",
      " [0 1 2 3 4]\n",
      " [0 1 2 3 4]\n",
      " [0 1 2 3 4]\n",
      " [0 1 2 3 4]]\n"
     ]
    }
   ],
   "source": [
    "import numpy as np\n",
    "A = np.arange(25).reshape(5,5)\n",
    "for i in range(0, 5):\n",
    "    for j in range(0, 5):\n",
    "        A[i][j] = j\n",
    "print(A)"
   ],
   "metadata": {
    "collapsed": false
   }
  },
  {
   "cell_type": "code",
   "execution_count": 4,
   "outputs": [
    {
     "name": "stdout",
     "output_type": "stream",
     "text": [
      "[[[ 0  1  2]\n",
      "  [ 3  4  5]\n",
      "  [ 6  7  8]]\n",
      "\n",
      " [[ 9 10 11]\n",
      "  [12 13 14]\n",
      "  [15 16 17]]\n",
      "\n",
      " [[18 19 20]\n",
      "  [21 22 23]\n",
      "  [24 25 26]]]\n"
     ]
    }
   ],
   "source": [
    "import numpy as np\n",
    "A = np.arange(27).reshape(3, 3, 3)\n",
    "print(A)"
   ],
   "metadata": {
    "collapsed": false
   }
  },
  {
   "cell_type": "code",
   "execution_count": 6,
   "outputs": [
    {
     "name": "stdout",
     "output_type": "stream",
     "text": [
      "[[1 1 1 1 1]\n",
      " [1 0 0 0 1]\n",
      " [1 0 0 0 1]\n",
      " [1 0 0 0 1]\n",
      " [1 1 1 1 1]]\n"
     ]
    }
   ],
   "source": [
    "import numpy as np\n",
    "n = int(input())\n",
    "A = np.arange(n*n).reshape(n,n)\n",
    "for i in range(0, n):\n",
    "    for j in range(0, n):\n",
    "        if i == 0 or j == 0 or i == n-1 or j == n-1:\n",
    "            A[i][j] = 1\n",
    "        else:\n",
    "            A[i][j] = 0\n",
    "print(A)"
   ],
   "metadata": {
    "collapsed": false
   }
  },
  {
   "cell_type": "code",
   "execution_count": 8,
   "outputs": [
    {
     "name": "stdout",
     "output_type": "stream",
     "text": [
      "[2 1 5 3 7 4 6 8]\n",
      "[1 2 3 4 5 6 7 8]\n"
     ]
    }
   ],
   "source": [
    "import numpy as np\n",
    "A = np.array([2, 1, 5, 3, 7, 4, 6, 8])\n",
    "print(A)\n",
    "print(np.sort(A))"
   ],
   "metadata": {
    "collapsed": false
   }
  },
  {
   "cell_type": "code",
   "execution_count": 10,
   "outputs": [
    {
     "name": "stdout",
     "output_type": "stream",
     "text": [
      "[[ 0  1  2  3  4]\n",
      " [ 5  6  7  8  9]\n",
      " [10 11 12 13 14]\n",
      " [15 16 17 18 19]\n",
      " [20 21 22 23 24]]\n",
      "25\n",
      "5 x 5\n"
     ]
    }
   ],
   "source": [
    "n = int(input())\n",
    "m = int(input())\n",
    "a = np.arange(n*m).reshape(n,m)\n",
    "print(a)\n",
    "print(n*m)\n",
    "print(n,\"x\",m)"
   ],
   "metadata": {
    "collapsed": false
   }
  },
  {
   "cell_type": "code",
   "execution_count": 11,
   "outputs": [
    {
     "name": "stdout",
     "output_type": "stream",
     "text": [
      "7.0710678118654755\n"
     ]
    }
   ],
   "source": [
    "import pandas as pd\n",
    "import math as m\n",
    "a = int(input())\n",
    "b = int(input())\n",
    "s1 = pd.Series([a,b])\n",
    "print(m.sqrt(s1[0]*s1[0]+s1[1]*s1[1]))"
   ],
   "metadata": {
    "collapsed": false
   }
  },
  {
   "cell_type": "code",
   "execution_count": 12,
   "outputs": [
    {
     "data": {
      "text/plain": "          1         2        3         4         5          6        7  \\\n0  4551.050   778.070  529.383  1579.939  4431.281  26528.738  108.939   \n1  4894.835   953.012  924.606   609.542  5745.776  25299.391  235.744   \n2  7021.420   983.019  634.856   743.686  7059.756  15447.900  176.568   \n3  3954.804   623.204  422.608  2444.540  6121.851   8543.166   92.627   \n4  4286.958  1046.373  523.819  3114.896  5975.083  58065.282  200.695   \n\n          8          9         10  ...    11332    11333    11334     11335  \\\n0  1850.430   2316.170  41750.693  ...  215.002  372.668  370.939   317.649   \n1  4046.767   3686.428  35744.253  ...  381.188  664.876  318.512   312.896   \n2  2007.593   2898.267  19392.063  ...  243.643  391.454  385.735  1210.101   \n3  3497.736   2824.900  34124.433  ...  334.072  301.437  115.246   506.503   \n4  3091.068  19735.442  51675.471  ...  357.353  257.546  188.657   770.394   \n\n     11336     11337    11338     11339     11340  11341  \n0  289.033   288.289  195.372   465.682   717.677      1  \n1  124.774   201.921  963.929  1073.766  1165.775      1  \n2  993.024   360.058  112.207  1223.602   419.183      1  \n3  297.748   406.335  246.898   554.892   381.016      1  \n4  410.719  1213.041  819.755   614.679   472.511      1  \n\n[5 rows x 11341 columns]",
      "text/html": "<div>\n<style scoped>\n    .dataframe tbody tr th:only-of-type {\n        vertical-align: middle;\n    }\n\n    .dataframe tbody tr th {\n        vertical-align: top;\n    }\n\n    .dataframe thead th {\n        text-align: right;\n    }\n</style>\n<table border=\"1\" class=\"dataframe\">\n  <thead>\n    <tr style=\"text-align: right;\">\n      <th></th>\n      <th>1</th>\n      <th>2</th>\n      <th>3</th>\n      <th>4</th>\n      <th>5</th>\n      <th>6</th>\n      <th>7</th>\n      <th>8</th>\n      <th>9</th>\n      <th>10</th>\n      <th>...</th>\n      <th>11332</th>\n      <th>11333</th>\n      <th>11334</th>\n      <th>11335</th>\n      <th>11336</th>\n      <th>11337</th>\n      <th>11338</th>\n      <th>11339</th>\n      <th>11340</th>\n      <th>11341</th>\n    </tr>\n  </thead>\n  <tbody>\n    <tr>\n      <th>0</th>\n      <td>4551.050</td>\n      <td>778.070</td>\n      <td>529.383</td>\n      <td>1579.939</td>\n      <td>4431.281</td>\n      <td>26528.738</td>\n      <td>108.939</td>\n      <td>1850.430</td>\n      <td>2316.170</td>\n      <td>41750.693</td>\n      <td>...</td>\n      <td>215.002</td>\n      <td>372.668</td>\n      <td>370.939</td>\n      <td>317.649</td>\n      <td>289.033</td>\n      <td>288.289</td>\n      <td>195.372</td>\n      <td>465.682</td>\n      <td>717.677</td>\n      <td>1</td>\n    </tr>\n    <tr>\n      <th>1</th>\n      <td>4894.835</td>\n      <td>953.012</td>\n      <td>924.606</td>\n      <td>609.542</td>\n      <td>5745.776</td>\n      <td>25299.391</td>\n      <td>235.744</td>\n      <td>4046.767</td>\n      <td>3686.428</td>\n      <td>35744.253</td>\n      <td>...</td>\n      <td>381.188</td>\n      <td>664.876</td>\n      <td>318.512</td>\n      <td>312.896</td>\n      <td>124.774</td>\n      <td>201.921</td>\n      <td>963.929</td>\n      <td>1073.766</td>\n      <td>1165.775</td>\n      <td>1</td>\n    </tr>\n    <tr>\n      <th>2</th>\n      <td>7021.420</td>\n      <td>983.019</td>\n      <td>634.856</td>\n      <td>743.686</td>\n      <td>7059.756</td>\n      <td>15447.900</td>\n      <td>176.568</td>\n      <td>2007.593</td>\n      <td>2898.267</td>\n      <td>19392.063</td>\n      <td>...</td>\n      <td>243.643</td>\n      <td>391.454</td>\n      <td>385.735</td>\n      <td>1210.101</td>\n      <td>993.024</td>\n      <td>360.058</td>\n      <td>112.207</td>\n      <td>1223.602</td>\n      <td>419.183</td>\n      <td>1</td>\n    </tr>\n    <tr>\n      <th>3</th>\n      <td>3954.804</td>\n      <td>623.204</td>\n      <td>422.608</td>\n      <td>2444.540</td>\n      <td>6121.851</td>\n      <td>8543.166</td>\n      <td>92.627</td>\n      <td>3497.736</td>\n      <td>2824.900</td>\n      <td>34124.433</td>\n      <td>...</td>\n      <td>334.072</td>\n      <td>301.437</td>\n      <td>115.246</td>\n      <td>506.503</td>\n      <td>297.748</td>\n      <td>406.335</td>\n      <td>246.898</td>\n      <td>554.892</td>\n      <td>381.016</td>\n      <td>1</td>\n    </tr>\n    <tr>\n      <th>4</th>\n      <td>4286.958</td>\n      <td>1046.373</td>\n      <td>523.819</td>\n      <td>3114.896</td>\n      <td>5975.083</td>\n      <td>58065.282</td>\n      <td>200.695</td>\n      <td>3091.068</td>\n      <td>19735.442</td>\n      <td>51675.471</td>\n      <td>...</td>\n      <td>357.353</td>\n      <td>257.546</td>\n      <td>188.657</td>\n      <td>770.394</td>\n      <td>410.719</td>\n      <td>1213.041</td>\n      <td>819.755</td>\n      <td>614.679</td>\n      <td>472.511</td>\n      <td>1</td>\n    </tr>\n  </tbody>\n</table>\n<p>5 rows × 11341 columns</p>\n</div>"
     },
     "execution_count": 12,
     "metadata": {},
     "output_type": "execute_result"
    }
   ],
   "source": [
    "import pandas as pd\n",
    "url = 'https://raw.githubusercontent.com/akmand/datasets/main/cll111.csv'\n",
    "dataframe = pd.read_csv(url)\n",
    "dataframe.head(5)"
   ],
   "metadata": {
    "collapsed": false
   }
  },
  {
   "cell_type": "code",
   "execution_count": 13,
   "outputs": [
    {
     "data": {
      "text/plain": "Empty DataFrame\nColumns: [1, 2, 3, 4, 5, 6, 7, 8, 9, 10, 11, 12, 13, 14, 15, 16, 17, 18, 19, 20, 21, 22, 23, 24, 25, 26, 27, 28, 29, 30, 31, 32, 33, 34, 35, 36, 37, 38, 39, 40, 41, 42, 43, 44, 45, 46, 47, 48, 49, 50, 51, 52, 53, 54, 55, 56, 57, 58, 59, 60, 61, 62, 63, 64, 65, 66, 67, 68, 69, 70, 71, 72, 73, 74, 75, 76, 77, 78, 79, 80, 81, 82, 83, 84, 85, 86, 87, 88, 89, 90, 91, 92, 93, 94, 95, 96, 97, 98, 99, 100, ...]\nIndex: []\n\n[0 rows x 11341 columns]",
      "text/html": "<div>\n<style scoped>\n    .dataframe tbody tr th:only-of-type {\n        vertical-align: middle;\n    }\n\n    .dataframe tbody tr th {\n        vertical-align: top;\n    }\n\n    .dataframe thead th {\n        text-align: right;\n    }\n</style>\n<table border=\"1\" class=\"dataframe\">\n  <thead>\n    <tr style=\"text-align: right;\">\n      <th></th>\n      <th>1</th>\n      <th>2</th>\n      <th>3</th>\n      <th>4</th>\n      <th>5</th>\n      <th>6</th>\n      <th>7</th>\n      <th>8</th>\n      <th>9</th>\n      <th>10</th>\n      <th>...</th>\n      <th>11332</th>\n      <th>11333</th>\n      <th>11334</th>\n      <th>11335</th>\n      <th>11336</th>\n      <th>11337</th>\n      <th>11338</th>\n      <th>11339</th>\n      <th>11340</th>\n      <th>11341</th>\n    </tr>\n  </thead>\n  <tbody>\n  </tbody>\n</table>\n<p>0 rows × 11341 columns</p>\n</div>"
     },
     "execution_count": 13,
     "metadata": {},
     "output_type": "execute_result"
    }
   ],
   "source": [
    "import pandas as pd\n",
    "url = 'https://raw.githubusercontent.com/akmand/datasets/main/cll111.csv'\n",
    "dataframe = pd.read_csv(url)\n",
    "dataframe.head(2)\n",
    "dataframe.tail(3)\n",
    "dataframe.shape\n",
    "dataframe.describe()\n",
    "dataframe.iloc[1:4]\n",
    "dataframe[dataframe['7'] == '176.568'].head(2)"
   ],
   "metadata": {
    "collapsed": false
   }
  },
  {
   "cell_type": "code",
   "execution_count": 2,
   "outputs": [
    {
     "data": {
      "text/plain": "     sepal_length_cm  sepal_width_cm  petal_length_cm  petal_width_cm  \\\n0           0.222222        1.032057              1.4             0.2   \n1           0.166667       -0.124958              1.4             0.2   \n2           0.111111        0.337848              1.3             0.2   \n3           0.083333        0.106445              1.5             0.2   \n4           0.194444        1.263460              1.4             0.2   \n..               ...             ...              ...             ...   \n145         0.666667       -0.124958              5.2             2.3   \n146         0.555556       -1.281972              5.0             1.9   \n147         0.611111       -0.124958              5.2             2.0   \n148         0.527778        0.800654              5.4             2.3   \n149         0.444444       -0.124958              5.1             1.8   \n\n       species  \n0       setosa  \n1       setosa  \n2       setosa  \n3       setosa  \n4       setosa  \n..         ...  \n145  virginica  \n146  virginica  \n147  virginica  \n148  virginica  \n149  virginica  \n\n[150 rows x 5 columns]",
      "text/html": "<div>\n<style scoped>\n    .dataframe tbody tr th:only-of-type {\n        vertical-align: middle;\n    }\n\n    .dataframe tbody tr th {\n        vertical-align: top;\n    }\n\n    .dataframe thead th {\n        text-align: right;\n    }\n</style>\n<table border=\"1\" class=\"dataframe\">\n  <thead>\n    <tr style=\"text-align: right;\">\n      <th></th>\n      <th>sepal_length_cm</th>\n      <th>sepal_width_cm</th>\n      <th>petal_length_cm</th>\n      <th>petal_width_cm</th>\n      <th>species</th>\n    </tr>\n  </thead>\n  <tbody>\n    <tr>\n      <th>0</th>\n      <td>0.222222</td>\n      <td>1.032057</td>\n      <td>1.4</td>\n      <td>0.2</td>\n      <td>setosa</td>\n    </tr>\n    <tr>\n      <th>1</th>\n      <td>0.166667</td>\n      <td>-0.124958</td>\n      <td>1.4</td>\n      <td>0.2</td>\n      <td>setosa</td>\n    </tr>\n    <tr>\n      <th>2</th>\n      <td>0.111111</td>\n      <td>0.337848</td>\n      <td>1.3</td>\n      <td>0.2</td>\n      <td>setosa</td>\n    </tr>\n    <tr>\n      <th>3</th>\n      <td>0.083333</td>\n      <td>0.106445</td>\n      <td>1.5</td>\n      <td>0.2</td>\n      <td>setosa</td>\n    </tr>\n    <tr>\n      <th>4</th>\n      <td>0.194444</td>\n      <td>1.263460</td>\n      <td>1.4</td>\n      <td>0.2</td>\n      <td>setosa</td>\n    </tr>\n    <tr>\n      <th>...</th>\n      <td>...</td>\n      <td>...</td>\n      <td>...</td>\n      <td>...</td>\n      <td>...</td>\n    </tr>\n    <tr>\n      <th>145</th>\n      <td>0.666667</td>\n      <td>-0.124958</td>\n      <td>5.2</td>\n      <td>2.3</td>\n      <td>virginica</td>\n    </tr>\n    <tr>\n      <th>146</th>\n      <td>0.555556</td>\n      <td>-1.281972</td>\n      <td>5.0</td>\n      <td>1.9</td>\n      <td>virginica</td>\n    </tr>\n    <tr>\n      <th>147</th>\n      <td>0.611111</td>\n      <td>-0.124958</td>\n      <td>5.2</td>\n      <td>2.0</td>\n      <td>virginica</td>\n    </tr>\n    <tr>\n      <th>148</th>\n      <td>0.527778</td>\n      <td>0.800654</td>\n      <td>5.4</td>\n      <td>2.3</td>\n      <td>virginica</td>\n    </tr>\n    <tr>\n      <th>149</th>\n      <td>0.444444</td>\n      <td>-0.124958</td>\n      <td>5.1</td>\n      <td>1.8</td>\n      <td>virginica</td>\n    </tr>\n  </tbody>\n</table>\n<p>150 rows × 5 columns</p>\n</div>"
     },
     "execution_count": 2,
     "metadata": {},
     "output_type": "execute_result"
    }
   ],
   "source": [
    "\n",
    "from sklearn.preprocessing import MinMaxScaler\n",
    "from sklearn.preprocessing import StandardScaler\n",
    "\n",
    "url = 'https://raw.githubusercontent.com/akmand/datasets/master/iris.csv'\n",
    "scaler1 = MinMaxScaler()\n",
    "scaler2 = StandardScaler()\n",
    "df = pd.read_csv(url)\n",
    "df[['sepal_length_cm']] = scaler1.fit_transform(df[['sepal_length_cm']])\n",
    "df[['sepal_width_cm']] = scaler2.fit_transform(df[['sepal_width_cm']])\n",
    "df\n",
    "\n"
   ],
   "metadata": {
    "collapsed": false
   }
  }
 ],
 "metadata": {
  "kernelspec": {
   "display_name": "Python 3",
   "language": "python",
   "name": "python3"
  },
  "language_info": {
   "codemirror_mode": {
    "name": "ipython",
    "version": 2
   },
   "file_extension": ".py",
   "mimetype": "text/x-python",
   "name": "python",
   "nbconvert_exporter": "python",
   "pygments_lexer": "ipython2",
   "version": "2.7.6"
  }
 },
 "nbformat": 4,
 "nbformat_minor": 0
}
